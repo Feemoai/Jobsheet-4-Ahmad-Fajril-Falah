{
  "nbformat": 4,
  "nbformat_minor": 0,
  "metadata": {
    "colab": {
      "provenance": [],
      "authorship_tag": "ABX9TyOCCumRY9JYcJdAAmdIoti4",
      "include_colab_link": true
    },
    "kernelspec": {
      "name": "python3",
      "display_name": "Python 3"
    },
    "language_info": {
      "name": "python"
    }
  },
  "cells": [
    {
      "cell_type": "markdown",
      "metadata": {
        "id": "view-in-github",
        "colab_type": "text"
      },
      "source": [
        "<a href=\"https://colab.research.google.com/github/Feemoai/Jobsheet-4-Ahmad-Fajril-Falah/blob/main/AFajrilF_JOBSHEET_04_PERULANGAN_(LOOPING).ipynb\" target=\"_parent\"><img src=\"https://colab.research.google.com/assets/colab-badge.svg\" alt=\"Open In Colab\"/></a>"
      ]
    },
    {
      "cell_type": "markdown",
      "source": [
        "**JOBSHEET 04 : PERULANGAN (LOOPING)**\n",
        "\n",
        "\n",
        "Dosen:\n",
        "Ir. Prayitno, S.ST., M.T., Ph.D.\n",
        "\n",
        "Nama Mahasiswa\t: Ahmad Fajril Falah\n",
        "\n",
        "NIM Mahasiswa\t: 4.33.25.1.01\n",
        "\n",
        "---\n",
        "\n"
      ],
      "metadata": {
        "id": "CHkDSurkQf-x"
      }
    },
    {
      "cell_type": "markdown",
      "source": [
        "Praktikum 01 – Perulangan For dengan Range\n",
        "\n",
        "---\n",
        "\n"
      ],
      "metadata": {
        "id": "DmMPN1OrQrSG"
      }
    },
    {
      "cell_type": "code",
      "execution_count": null,
      "metadata": {
        "colab": {
          "base_uri": "https://localhost:8080/"
        },
        "id": "yXWRIBGCQW4A",
        "outputId": "e5a3904d-31c9-4665-f33a-fa535d62d635"
      },
      "outputs": [
        {
          "output_type": "stream",
          "name": "stdout",
          "text": [
            "1\n",
            "2\n",
            "3\n",
            "4\n"
          ]
        }
      ],
      "source": [
        "for i in range(1, 5):\n",
        "  print(i)\n"
      ]
    },
    {
      "cell_type": "markdown",
      "source": [
        "Praktikum 02 – Perulangan While\n",
        "\n",
        "---\n",
        "\n"
      ],
      "metadata": {
        "id": "ecTYPpFmQz63"
      }
    },
    {
      "cell_type": "code",
      "source": [
        "n = int(input(\"Masukkan angka: \"))\n",
        "while n > 0:\n",
        "  print(n)\n",
        "  n -= 1\n"
      ],
      "metadata": {
        "colab": {
          "base_uri": "https://localhost:8080/"
        },
        "id": "Y_zxf_vXQ2Y1",
        "outputId": "bc64c286-d656-4ed4-e29b-49960d8dc462"
      },
      "execution_count": null,
      "outputs": [
        {
          "output_type": "stream",
          "name": "stdout",
          "text": [
            "Masukkan angka: 5\n",
            "5\n",
            "4\n",
            "3\n",
            "2\n",
            "1\n"
          ]
        }
      ]
    },
    {
      "cell_type": "markdown",
      "source": [
        "Praktikum 03 – Nested Loop (Segitiga Bintang)\n",
        "\n",
        "---\n",
        "\n"
      ],
      "metadata": {
        "id": "zIY4gfG5RDkE"
      }
    },
    {
      "cell_type": "code",
      "source": [
        "for i in range(1, 6):\n",
        "  for j in range(i):\n",
        "    print(\"*\", end=\"\")\n",
        "  print()\n"
      ],
      "metadata": {
        "colab": {
          "base_uri": "https://localhost:8080/"
        },
        "id": "8DiFLgiiREO9",
        "outputId": "58fea7fe-fff1-4b3d-e677-8095f700f6c7"
      },
      "execution_count": null,
      "outputs": [
        {
          "output_type": "stream",
          "name": "stdout",
          "text": [
            "*\n",
            "**\n",
            "***\n",
            "****\n",
            "*****\n"
          ]
        }
      ]
    },
    {
      "cell_type": "markdown",
      "source": [
        "Praktikum 04 – Break dan Continue\n",
        "\n",
        "---\n",
        "\n"
      ],
      "metadata": {
        "id": "7coPI1yZRPOp"
      }
    },
    {
      "cell_type": "code",
      "source": [
        "for i in range(1, 11):\n",
        "    if i == 10:\n",
        "        print(\"Angka 10 ditemukan\")\n",
        "        break\n",
        "    print(\"Angka:\", i)\n"
      ],
      "metadata": {
        "colab": {
          "base_uri": "https://localhost:8080/"
        },
        "id": "Zy3Qu0IlRs8n",
        "outputId": "9fd99388-f3e4-4b70-9cdb-809c5652ac60"
      },
      "execution_count": null,
      "outputs": [
        {
          "output_type": "stream",
          "name": "stdout",
          "text": [
            "Angka: 1\n",
            "Angka: 2\n",
            "Angka: 3\n",
            "Angka: 4\n",
            "Angka: 5\n",
            "Angka: 6\n",
            "Angka: 7\n",
            "Angka: 8\n",
            "Angka: 9\n",
            "Angka 10 ditemukan\n"
          ]
        }
      ]
    },
    {
      "cell_type": "code",
      "source": [
        "#ini hanya menampilkan angka genap saja\n",
        "for i in range(1, 6):\n",
        "    if i % 2 == 1:\n",
        "        continue\n",
        "    print(i)\n"
      ],
      "metadata": {
        "colab": {
          "base_uri": "https://localhost:8080/"
        },
        "id": "OBpG3ae-UTx7",
        "outputId": "2433c975-f0e6-4113-e5bc-e0ad5102e38e"
      },
      "execution_count": null,
      "outputs": [
        {
          "output_type": "stream",
          "name": "stdout",
          "text": [
            "2\n",
            "4\n"
          ]
        }
      ]
    },
    {
      "cell_type": "markdown",
      "source": [
        "Praktikum 05 – For pada Dictionary\n",
        "\n",
        "---\n",
        "\n"
      ],
      "metadata": {
        "id": "C8P5z0sFSBPb"
      }
    },
    {
      "cell_type": "code",
      "source": [
        "data = {\"Nama\": \"Andi\", \"Umur\": 20, \"Prodi\": \"TRK\"}\n",
        "for k, v in data.items():\n",
        "  print(k, \":\", v)\n"
      ],
      "metadata": {
        "colab": {
          "base_uri": "https://localhost:8080/"
        },
        "id": "Y_SHzWlXSElO",
        "outputId": "a88b2ead-4782-4b59-f62b-6daaed6e4d02"
      },
      "execution_count": null,
      "outputs": [
        {
          "output_type": "stream",
          "name": "stdout",
          "text": [
            "Nama : Andi\n",
            "Umur : 20\n",
            "Prodi : TRK\n"
          ]
        }
      ]
    },
    {
      "cell_type": "markdown",
      "source": [
        "Praktikum 06 – For dengan Enumerate\n",
        "\n",
        "---\n",
        "\n"
      ],
      "metadata": {
        "id": "uqsfMH87SQ85"
      }
    },
    {
      "cell_type": "code",
      "source": [
        "daftar = [\"Andi\", \"Budi\", \"Cici\"]\n",
        "for i, nama in enumerate(daftar, start=1):\n",
        "  print(i, nama)\n"
      ],
      "metadata": {
        "colab": {
          "base_uri": "https://localhost:8080/"
        },
        "id": "B7kdi0DDSRwa",
        "outputId": "5c00f466-39f4-47c8-cf7d-e0a2c5b1147e"
      },
      "execution_count": null,
      "outputs": [
        {
          "output_type": "stream",
          "name": "stdout",
          "text": [
            "1 Andi\n",
            "2 Budi\n",
            "3 Cici\n"
          ]
        }
      ]
    },
    {
      "cell_type": "markdown",
      "source": [
        "Praktikum 07 – Studi Kasus: Program Kasir Multi-Item\n",
        "\n",
        "---"
      ],
      "metadata": {
        "id": "bs52nSzzSaBH"
      }
    },
    {
      "cell_type": "code",
      "source": [
        "total = 0\n",
        "\n",
        "while True:\n",
        "    barang = input(\"Masukkan nama barang (ketik 'selesai' untuk berhenti): \")\n",
        "    if barang.lower() == \"selesai\":\n",
        "        break\n",
        "    harga = float(input(f\"Masukkan harga {barang}: \"))\n",
        "    jumlah = int(input(f\"Masukkan jumlah {barang}: \"))\n",
        "    subtotal = harga * jumlah\n",
        "    total += subtotal\n",
        "\n",
        "print(\"\\n===== Struk Belanja =====\")\n",
        "print(f\"Total Belanja: Rp {total}\")\n",
        "s"
      ],
      "metadata": {
        "colab": {
          "base_uri": "https://localhost:8080/"
        },
        "id": "fw372Hh1SclT",
        "outputId": "7a296ad4-3a6a-475b-dc0b-6fc87b5e3bb3"
      },
      "execution_count": null,
      "outputs": [
        {
          "output_type": "stream",
          "name": "stdout",
          "text": [
            "Masukkan nama barang (ketik 'selesai' untuk berhenti): Buku\n",
            "Masukkan harga Buku: 50000\n",
            "Masukkan jumlah Buku: 2\n",
            "Masukkan nama barang (ketik 'selesai' untuk berhenti): Pulpen\n",
            "Masukkan harga Pulpen: 5000\n",
            "Masukkan jumlah Pulpen: 3\n",
            "Masukkan nama barang (ketik 'selesai' untuk berhenti): selesai\n",
            "\n",
            "===== Struk Belanja =====\n",
            "Total Belanja: Rp 115000.0\n"
          ]
        }
      ]
    },
    {
      "cell_type": "markdown",
      "source": [
        "**⬇⬇ Penugasan Jobsheet 04 ⬇⬇**\n",
        "\n",
        "---"
      ],
      "metadata": {
        "id": "yQMp5W34ebVI"
      }
    },
    {
      "cell_type": "markdown",
      "source": [
        "3.\tMenampilkan Deret Angka\n",
        "\n",
        "---\n",
        "\n"
      ],
      "metadata": {
        "id": "GA28Lk4AeSuu"
      }
    },
    {
      "cell_type": "code",
      "source": [
        "print(\"Ahmad Fajril Falah\")\n",
        "print(\"3.Menampilkan Deret Angka\\n\")\n",
        "for i in range(3, 31, 3):   # mulai dari 3, berhenti di 30, kelipatan 3\n",
        "    print(i)"
      ],
      "metadata": {
        "colab": {
          "base_uri": "https://localhost:8080/"
        },
        "id": "p-QMdeXTdX--",
        "outputId": "607da187-be88-4a59-baf9-b6c3030e892d"
      },
      "execution_count": 5,
      "outputs": [
        {
          "output_type": "stream",
          "name": "stdout",
          "text": [
            "Ahmad Fajril Falah\n",
            "3.Menampilkan Deret Angka\n",
            "\n",
            "3\n",
            "6\n",
            "9\n",
            "12\n",
            "15\n",
            "18\n",
            "21\n",
            "24\n",
            "27\n",
            "30\n"
          ]
        }
      ]
    },
    {
      "cell_type": "markdown",
      "source": [
        "4.\tHitung Faktorial\n",
        "\n",
        "---\n",
        "\n"
      ],
      "metadata": {
        "id": "4zV14CpTiT4G"
      }
    },
    {
      "cell_type": "code",
      "source": [
        "print(\"Ahmad Fajril Falah\")\n",
        "print(\"4.Hitung Faktorial\\n\")\n",
        "n = int(input(\"Masukkan bilangan: \"))\n",
        "faktorial = 1\n",
        "\n",
        "while n > 1:\n",
        "    faktorial *= n\n",
        "    n -= 1\n",
        "\n",
        "print(\"Hasil faktorial =\", faktorial)"
      ],
      "metadata": {
        "colab": {
          "base_uri": "https://localhost:8080/"
        },
        "id": "WVSkzLcWhfP2",
        "outputId": "fe319f07-2670-45cd-c4bd-eb80470bb5a7"
      },
      "execution_count": 7,
      "outputs": [
        {
          "output_type": "stream",
          "name": "stdout",
          "text": [
            "Ahmad Fajril Falah\n",
            "4.Hitung Faktorial\n",
            "\n",
            "Masukkan bilangan: 10\n",
            "Hasil faktorial = 3628800\n"
          ]
        }
      ]
    },
    {
      "cell_type": "markdown",
      "source": [
        "5.\tPola Segitiga Terbalik\n",
        "\n",
        "---\n",
        "\n"
      ],
      "metadata": {
        "id": "jEpzKiXQiQ1j"
      }
    },
    {
      "cell_type": "code",
      "source": [
        "print(\"Ahmad Fajril Falah\")\n",
        "print(\"5.Pola Segitiga Terbalik\\n\")\n",
        "tinggi = 5\n",
        "\n",
        "for i in range(tinggi, 0, -1):\n",
        "    for j in range(i):\n",
        "        print(\"*\", end=\"\")\n",
        "    print()\n"
      ],
      "metadata": {
        "colab": {
          "base_uri": "https://localhost:8080/"
        },
        "id": "86cZS958h_oN",
        "outputId": "ecd7ec37-b756-4753-e09c-98c3427c1016"
      },
      "execution_count": 10,
      "outputs": [
        {
          "output_type": "stream",
          "name": "stdout",
          "text": [
            "Ahmad Fajril Falah\n",
            "5.Pola Segitiga Terbalik\n",
            "\n",
            "*****\n",
            "****\n",
            "***\n",
            "**\n",
            "*\n"
          ]
        }
      ]
    },
    {
      "cell_type": "markdown",
      "source": [
        "6.\tCari Bilangan Prima dengan Break\n",
        "\n",
        "---\n",
        "\n"
      ],
      "metadata": {
        "id": "frULHqnpzVXW"
      }
    },
    {
      "cell_type": "code",
      "source": [
        "print(\"Ahmad Fajril Falah\")\n",
        "print(\"6.Cari Bilangan Prima dengan Break\\n\")\n",
        "n = int(input(\"Masukkan bilangan: \"))\n",
        "prima = True\n",
        "\n",
        "if n <= 1:\n",
        "    prima = False\n",
        "else:\n",
        "    for i in range(2, n):\n",
        "        if n % i == 0:\n",
        "            prima = False\n",
        "            break\n",
        "\n",
        "if prima:\n",
        "    print(f\"{n} adalah bilangan prima.\")\n",
        "else:\n",
        "    print(f\"{n} bukan bilangan prima.\")\n"
      ],
      "metadata": {
        "colab": {
          "base_uri": "https://localhost:8080/"
        },
        "id": "KGwefvmYzWTM",
        "outputId": "5535354f-c7fd-46c2-a21c-06cc84afe39d"
      },
      "execution_count": 11,
      "outputs": [
        {
          "output_type": "stream",
          "name": "stdout",
          "text": [
            "Ahmad Fajril Falah\n",
            "6.Cari Bilangan Prima dengan Break\n",
            "\n",
            "Masukkan bilangan: 3\n",
            "3 adalah bilangan prima.\n"
          ]
        }
      ]
    },
    {
      "cell_type": "markdown",
      "source": [
        "7.\tTampilkan Hanya Bilangan Genap dengan Continue\n",
        "\n",
        "---\n",
        "\n"
      ],
      "metadata": {
        "id": "f7jlBqX12Oik"
      }
    },
    {
      "cell_type": "code",
      "source": [
        "print(\"Ahmad Fajril Falah\")\n",
        "print(\"7.Tampilkan Hanya Bilangan Genap dengan Continue\\n\")\n",
        "for i in range(1, 21):\n",
        "    if i % 2 != 0:\n",
        "        continue\n",
        "    print(i)"
      ],
      "metadata": {
        "colab": {
          "base_uri": "https://localhost:8080/"
        },
        "id": "4jps5LaE2NPv",
        "outputId": "c4a1d739-2ab0-43e5-ceb2-2dd9316f97a3"
      },
      "execution_count": 13,
      "outputs": [
        {
          "output_type": "stream",
          "name": "stdout",
          "text": [
            "Ahmad Fajril Falah\n",
            "7.Tampilkan Hanya Bilangan Genap dengan Continue\n",
            "\n",
            "2\n",
            "4\n",
            "6\n",
            "8\n",
            "10\n",
            "12\n",
            "14\n",
            "16\n",
            "18\n",
            "20\n"
          ]
        }
      ]
    },
    {
      "cell_type": "markdown",
      "source": [
        "8.\tIterasi Dictionary Mahasiswa\n",
        "\n",
        "---\n",
        "\n"
      ],
      "metadata": {
        "id": "VeHegvyx3-AR"
      }
    },
    {
      "cell_type": "code",
      "source": [
        "print(\"Ahmad Fajril Falah\")\n",
        "print(\"8.Iterasi Dictionary Mahasiswa\\n\")\n",
        "# Data mahasiswa\n",
        "mahasiswa = {\"Nama\": \"Budi\", \"Umur\": 21, \"Prodi\": \"Teknik Komputer\"}\n",
        "\n",
        "for key, value in mahasiswa.items():\n",
        "    print(f\"{key} : {value}\", end=\" \")\n"
      ],
      "metadata": {
        "colab": {
          "base_uri": "https://localhost:8080/"
        },
        "id": "dTSkdHVh3s7B",
        "outputId": "6fe9bdff-0beb-41fa-f2f2-b89d28a5587d"
      },
      "execution_count": 15,
      "outputs": [
        {
          "output_type": "stream",
          "name": "stdout",
          "text": [
            "Ahmad Fajril Falah\n",
            "8.Iterasi Dictionary Mahasiswa\n",
            "\n",
            "Nama : Budi Umur : 21 Prodi : Teknik Komputer "
          ]
        }
      ]
    },
    {
      "cell_type": "markdown",
      "source": [
        "9.\tEnumerate Daftar Barang\n",
        "\n",
        "---\n",
        "\n"
      ],
      "metadata": {
        "id": "qa5OqEuJ5lPC"
      }
    },
    {
      "cell_type": "code",
      "source": [
        "print(\"Ahmad Fajril Falah\")\n",
        "print(\"9.Enumerate Daftar Barang\\n\")\n",
        "barang = [\"Buku\", \"Pulpen\", \"Tas\"]\n",
        "\n",
        "for i, item in enumerate(barang, start=1):\n",
        "    print(i, item)\n"
      ],
      "metadata": {
        "colab": {
          "base_uri": "https://localhost:8080/"
        },
        "id": "JfjENFIx5gJZ",
        "outputId": "c6ecf943-a368-45f6-d3dc-81181a040ae9"
      },
      "execution_count": 17,
      "outputs": [
        {
          "output_type": "stream",
          "name": "stdout",
          "text": [
            "Ahmad Fajril Falah\n",
            "9.Enumerate Daftar Barang\n",
            "\n",
            "1 Buku\n",
            "2 Pulpen\n",
            "3 Tas\n"
          ]
        }
      ]
    },
    {
      "cell_type": "markdown",
      "source": [
        "10.\tStudi Kasus – Kasir Diskon\n",
        "\n",
        "---\n",
        "\n"
      ],
      "metadata": {
        "id": "Ze5beX2Z7GWi"
      }
    },
    {
      "cell_type": "code",
      "source": [
        "print(\"Ahmad Fajril Falah\")\n",
        "print(\"10. Studi Kasus – Kasir Diskonn\")\n",
        "total = 0\n",
        "barang_list = []\n",
        "\n",
        "while True:\n",
        "    nama = input(\"Masukkan nama barang (ketik 'selesai' untuk berhenti): \")\n",
        "    if nama.lower() == \"selesai\":\n",
        "        break\n",
        "\n",
        "    harga = int(input(f\"Masukkan harga {nama}: \"))\n",
        "    jumlah = int(input(f\"Masukkan jumlah {nama}: \"))\n",
        "\n",
        "    subtotal = harga * jumlah\n",
        "    total += subtotal\n",
        "\n",
        "    barang_list.append([nama, harga, jumlah, subtotal])\n",
        "    print(f\"Subtotal {nama}: Rp{subtotal:,}\\n\")\n",
        "\n",
        "# Diskon\n",
        "diskon = 0\n",
        "if total >= 200000:\n",
        "    diskon = total * 0.10\n",
        "\n",
        "total_bayar = total - diskon\n",
        "\n",
        "# struk pembayaran\n",
        "print(\"\\n===== STRUK BELANJA =====\")\n",
        "for barang in barang_list:\n",
        "    print(f\"{barang[0]} (x{barang[2]}) - Rp{barang[3]:,}\")\n",
        "print(\"--------------------------\")\n",
        "print(f\"Total Harga : Rp{total:,}\")\n",
        "print(f\"Diskon (10%) : Rp{diskon:,}\")\n",
        "print(f\"Total Bayar  : Rp{total_bayar:,}\")\n",
        "print(\"==========================\")\n",
        "print(\"Terima kasih sudah berbelanja!\")\n"
      ],
      "metadata": {
        "colab": {
          "base_uri": "https://localhost:8080/"
        },
        "id": "Pt_AKIKn6n_t",
        "outputId": "408dada3-e741-4e82-e453-3f0f9bba1ded"
      },
      "execution_count": 20,
      "outputs": [
        {
          "output_type": "stream",
          "name": "stdout",
          "text": [
            "Ahmad Fajril Falah\n",
            "10. Studi Kasus – Kasir Diskonn\n",
            "Masukkan nama barang (ketik 'selesai' untuk berhenti): Buku\n",
            "Masukkan harga Buku: 10000\n",
            "Masukkan jumlah Buku: 6\n",
            "Subtotal Buku: Rp60,000\n",
            "\n",
            "Masukkan nama barang (ketik 'selesai' untuk berhenti): Penggaris Ziegel\n",
            "Masukkan harga Penggaris Ziegel: 22000\n",
            "Masukkan jumlah Penggaris Ziegel: 2\n",
            "Subtotal Penggaris Ziegel: Rp44,000\n",
            "\n",
            "Masukkan nama barang (ketik 'selesai' untuk berhenti): Pulpen\n",
            "Masukkan harga Pulpen: 5000\n",
            "Masukkan jumlah Pulpen: 10\n",
            "Subtotal Pulpen: Rp50,000\n",
            "\n",
            "Masukkan nama barang (ketik 'selesai' untuk berhenti): selesai\n",
            "\n",
            "===== STRUK BELANJA =====\n",
            "Buku (x6) - Rp60,000\n",
            "Penggaris Ziegel (x2) - Rp44,000\n",
            "Pulpen (x10) - Rp50,000\n",
            "--------------------------\n",
            "Total Harga : Rp154,000\n",
            "Diskon (10%) : Rp0\n",
            "Total Bayar  : Rp154,000\n",
            "==========================\n",
            "Terima kasih sudah berbelanja!\n"
          ]
        }
      ]
    }
  ]
}